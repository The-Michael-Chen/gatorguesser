{
 "cells": [
  {
   "cell_type": "code",
   "execution_count": 1,
   "id": "7eb4431a-d099-4381-8593-c838216e097d",
   "metadata": {
    "execution": {
     "iopub.execute_input": "2022-07-18T23:57:22.739062Z",
     "iopub.status.busy": "2022-07-18T23:57:22.738677Z",
     "iopub.status.idle": "2022-07-18T23:57:25.750163Z",
     "shell.execute_reply": "2022-07-18T23:57:25.749391Z",
     "shell.execute_reply.started": "2022-07-18T23:57:22.738994Z"
    }
   },
   "outputs": [],
   "source": [
    "from fastai.vision.all import *\n",
    "from fastai.vision.widgets import *"
   ]
  },
  {
   "cell_type": "code",
   "execution_count": 2,
   "id": "632a5095-acf1-4f8b-9295-c29e34d3a2f9",
   "metadata": {
    "execution": {
     "iopub.execute_input": "2022-07-18T14:59:11.779197Z",
     "iopub.status.busy": "2022-07-18T14:59:11.778461Z",
     "iopub.status.idle": "2022-07-18T14:59:11.784457Z",
     "shell.execute_reply": "2022-07-18T14:59:11.783583Z",
     "shell.execute_reply.started": "2022-07-18T14:59:11.779193Z"
    }
   },
   "outputs": [],
   "source": [
    "path = Path()"
   ]
  },
  {
   "cell_type": "code",
   "execution_count": 3,
   "id": "75fbbe12-4511-4905-bd1f-dfd7d1e5a12c",
   "metadata": {
    "execution": {
     "iopub.execute_input": "2022-07-18T14:59:27.462486Z",
     "iopub.status.busy": "2022-07-18T14:59:27.462066Z",
     "iopub.status.idle": "2022-07-18T14:59:27.788378Z",
     "shell.execute_reply": "2022-07-18T14:59:27.787483Z",
     "shell.execute_reply.started": "2022-07-18T14:59:27.462457Z"
    }
   },
   "outputs": [],
   "source": [
    "learn_inf = load_learner(path/'export.pkl')"
   ]
  },
  {
   "cell_type": "code",
   "execution_count": 4,
   "id": "fe701059-80f5-4986-9a65-db2601ffac8d",
   "metadata": {
    "execution": {
     "iopub.execute_input": "2022-07-18T14:59:36.083226Z",
     "iopub.status.busy": "2022-07-18T14:59:36.082796Z",
     "iopub.status.idle": "2022-07-18T14:59:36.103821Z",
     "shell.execute_reply": "2022-07-18T14:59:36.102600Z",
     "shell.execute_reply.started": "2022-07-18T14:59:36.083205Z"
    }
   },
   "outputs": [],
   "source": [
    "btn_upload = widgets.FileUpload()"
   ]
  },
  {
   "cell_type": "code",
   "execution_count": 5,
   "id": "690f558a-c6cb-4f55-b4fd-5b3f2c600327",
   "metadata": {
    "execution": {
     "iopub.execute_input": "2022-07-18T14:59:49.831879Z",
     "iopub.status.busy": "2022-07-18T14:59:49.831507Z",
     "iopub.status.idle": "2022-07-18T14:59:49.841023Z",
     "shell.execute_reply": "2022-07-18T14:59:49.839962Z",
     "shell.execute_reply.started": "2022-07-18T14:59:49.831879Z"
    }
   },
   "outputs": [],
   "source": [
    "out_pl = widgets.Output()"
   ]
  },
  {
   "cell_type": "code",
   "execution_count": 8,
   "id": "b56699e5-6b64-4134-b55a-56e0d36395f2",
   "metadata": {
    "execution": {
     "iopub.execute_input": "2022-07-18T15:02:46.533285Z",
     "iopub.status.busy": "2022-07-18T15:02:46.532899Z",
     "iopub.status.idle": "2022-07-18T15:02:46.544141Z",
     "shell.execute_reply": "2022-07-18T15:02:46.543358Z",
     "shell.execute_reply.started": "2022-07-18T15:02:46.533258Z"
    }
   },
   "outputs": [],
   "source": [
    "lbl_pred = widgets.Label()"
   ]
  },
  {
   "cell_type": "code",
   "execution_count": 9,
   "id": "e6411b8b-c06a-44d0-a9e8-9360fedc3c50",
   "metadata": {
    "execution": {
     "iopub.execute_input": "2022-07-18T15:02:54.647400Z",
     "iopub.status.busy": "2022-07-18T15:02:54.647027Z",
     "iopub.status.idle": "2022-07-18T15:02:54.657614Z",
     "shell.execute_reply": "2022-07-18T15:02:54.656715Z",
     "shell.execute_reply.started": "2022-07-18T15:02:54.647373Z"
    }
   },
   "outputs": [],
   "source": [
    "btn_run = widgets.Button(description='Classify')"
   ]
  },
  {
   "cell_type": "code",
   "execution_count": 10,
   "id": "cb480930-032b-4655-82de-4207a042c271",
   "metadata": {
    "execution": {
     "iopub.execute_input": "2022-07-18T15:02:56.717956Z",
     "iopub.status.busy": "2022-07-18T15:02:56.717566Z",
     "iopub.status.idle": "2022-07-18T15:02:56.725678Z",
     "shell.execute_reply": "2022-07-18T15:02:56.724502Z",
     "shell.execute_reply.started": "2022-07-18T15:02:56.717929Z"
    }
   },
   "outputs": [],
   "source": [
    "def on_click_classify(change):\n",
    "    img = PILImage.create(btn_upload.data[-1])\n",
    "    out_pl.clear_output()\n",
    "    with out_pl: display(img.to_thumb(128,128))\n",
    "    pred,pred_idx,probs = learn_inf.predict(img)\n",
    "    lbl_pred.value = f'Prediction: {pred}; Probability: {probs[pred_idx]:.04f}'\n",
    "\n",
    "btn_run.on_click(on_click_classify)"
   ]
  },
  {
   "cell_type": "code",
   "execution_count": 11,
   "id": "3c6a3c32-8176-448c-aea4-08917c7a29cc",
   "metadata": {
    "execution": {
     "iopub.execute_input": "2022-07-18T15:04:41.715468Z",
     "iopub.status.busy": "2022-07-18T15:04:41.715039Z",
     "iopub.status.idle": "2022-07-18T15:04:41.735763Z",
     "shell.execute_reply": "2022-07-18T15:04:41.734645Z",
     "shell.execute_reply.started": "2022-07-18T15:04:41.715441Z"
    }
   },
   "outputs": [
    {
     "data": {
      "application/vnd.jupyter.widget-view+json": {
       "model_id": "c6253f012d0c496ba964289edf5336af",
       "version_major": 2,
       "version_minor": 0
      },
      "text/plain": [
       "VBox(children=(Label(value='Gator Guesser!'), FileUpload(value={}, description='Upload'), Button(description='…"
      ]
     },
     "metadata": {},
     "output_type": "display_data"
    }
   ],
   "source": [
    "display(VBox([widgets.Label('Gator Guesser!'), \n",
    "      btn_upload, btn_run, out_pl, lbl_pred]))"
   ]
  }
 ],
 "metadata": {
  "kernelspec": {
   "display_name": "Python 3 (ipykernel)",
   "language": "python",
   "name": "python3"
  },
  "language_info": {
   "codemirror_mode": {
    "name": "ipython",
    "version": 3
   },
   "file_extension": ".py",
   "mimetype": "text/x-python",
   "name": "python",
   "nbconvert_exporter": "python",
   "pygments_lexer": "ipython3",
   "version": "3.9.13"
  }
 },
 "nbformat": 4,
 "nbformat_minor": 5
}
